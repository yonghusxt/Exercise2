{
 "cells": [
  {
   "cell_type": "markdown",
   "metadata": {},
   "source": [
    "1. Ask user to enter a string and check that it is made up only alphabets:"
   ]
  },
  {
   "cell_type": "code",
   "execution_count": 1,
   "metadata": {},
   "outputs": [
    {
     "name": "stdout",
     "output_type": "stream",
     "text": [
      "You entered str is composed of alphabets.\n"
     ]
    }
   ],
   "source": [
    "str1 = input(\"Please enter a string\")\n",
    "check = str1.isalpha()\n",
    "if check:\n",
    " print(f\"You entered {str1} is composed of alphabets.\")\n",
    "else:\n",
    " print(f\"You entered {str1} is not composed of alphabets.\")"
   ]
  },
  {
   "cell_type": "markdown",
   "metadata": {},
   "source": [
    "2. Now, make sure that the string is made up of both alphabets and numbers:\n",
    "\n",
    "TRY using isalnum() function and then entering only alhpabets in the string and see what happens."
   ]
  },
  {
   "cell_type": "code",
   "execution_count": 2,
   "metadata": {},
   "outputs": [
    {
     "name": "stdout",
     "output_type": "stream",
     "text": [
      "You entered str123 is composed of both alphabets and numbers.\n"
     ]
    }
   ],
   "source": [
    "str1 = input(\"Please enter a string\")\n",
    "alpha_flag = False\n",
    "number_flag = False\n",
    "\n",
    "for x in str1:\n",
    "    if x.isalpha():\n",
    "        alpha_flag = True\n",
    "    elif x.isdigit():\n",
    "        number_flag = True\n",
    "\n",
    "if (alpha_flag and number_flag and str1.isalnum()):\n",
    "    print(f\"You entered {str1} is composed of both alphabets and numbers.\")\n",
    "else:\n",
    "    print(f\"You entered {str1} is not composed of both alphabets and numbers.\")"
   ]
  },
  {
   "cell_type": "markdown",
   "metadata": {},
   "source": [
    "3. Now, make sure that the string is made up of both alphabets and at least one number:\n"
   ]
  },
  {
   "cell_type": "code",
   "execution_count": 3,
   "metadata": {},
   "outputs": [
    {
     "name": "stdout",
     "output_type": "stream",
     "text": [
      "You entered str123 is composed of both alphabets and numbers.\n"
     ]
    }
   ],
   "source": [
    "str1 = input(\"Please enter a string\")\n",
    "alpha_flag = False\n",
    "number_flag = False\n",
    "\n",
    "for x in str1:\n",
    "    if x.isalpha():\n",
    "        alpha_flag = True\n",
    "    elif x.isdigit():\n",
    "        number_flag = True\n",
    "\n",
    "if (alpha_flag and number_flag):\n",
    "    print(f\"You entered {str1} is composed of both alphabets and numbers.\")\n",
    "else:\n",
    "    print(f\"You entered {str1} is not composed of both alphabets and numbers.\")"
   ]
  },
  {
   "cell_type": "markdown",
   "metadata": {},
   "source": [
    "4. Now, make sure that the string is made up of both alphabets, at least one number, and at least one special character:"
   ]
  },
  {
   "cell_type": "code",
   "execution_count": 4,
   "metadata": {},
   "outputs": [
    {
     "name": "stdout",
     "output_type": "stream",
     "text": [
      "You entered str123 is not composed of both alphabets, at least one number, and at least one special character.\n"
     ]
    }
   ],
   "source": [
    "str1 = input(\"Please enter a string\")\n",
    "alpha_flag = False\n",
    "number_flag = False\n",
    "special_flag =False\n",
    "\n",
    "for x in str1:\n",
    "    if x.isalpha():\n",
    "        alpha_flag = True\n",
    "    elif x.isdigit():\n",
    "        number_flag = True\n",
    "    else:\n",
    "        special_flag=True\n",
    "\n",
    "if (alpha_flag and number_flag and special_flag):\n",
    "    print(f\"You entered {str1} is composed of both alphabets, at least one number, and at least one special character.\")\n",
    "else:\n",
    "    print(f\"You entered {str1} is not composed of both alphabets, at least one number, and at least one special character.\")"
   ]
  },
  {
   "cell_type": "markdown",
   "metadata": {},
   "source": [
    "5. Now, modify the above code so that if the user enters an invalid string, the program should ask the user to enter another string again, and keep asking until a valid string has been entered."
   ]
  },
  {
   "cell_type": "code",
   "execution_count": 5,
   "metadata": {},
   "outputs": [
    {
     "name": "stdout",
     "output_type": "stream",
     "text": [
      "You entered str123 is not composed of both alphabets, at least one number, and at least one special character.\n",
      "You entered str123! is composed of both alphabets, at least one number, and at least one special character.\n"
     ]
    }
   ],
   "source": [
    "check=False\n",
    "while not check:\n",
    "    str1 = input(\"Please enter a string\")\n",
    "    alpha_flag = False\n",
    "    number_flag = False\n",
    "    special_flag =False\n",
    "\n",
    "    for x in str1:\n",
    "        if x.isalpha():\n",
    "            alpha_flag = True\n",
    "        elif x.isdigit():\n",
    "            number_flag = True\n",
    "        else:\n",
    "            special_flag=True\n",
    "\n",
    "    if (alpha_flag and number_flag and special_flag):\n",
    "        print(f\"You entered {str1} is composed of both alphabets, at least one number, and at least one special character.\")\n",
    "        check =True\n",
    "    else:\n",
    "        print(f\"You entered {str1} is not composed of both alphabets, at least one number, and at least one special character.\")"
   ]
  }
 ],
 "metadata": {
  "kernelspec": {
   "display_name": "Python 3",
   "language": "python",
   "name": "python3"
  },
  "language_info": {
   "codemirror_mode": {
    "name": "ipython",
    "version": 3
   },
   "file_extension": ".py",
   "mimetype": "text/x-python",
   "name": "python",
   "nbconvert_exporter": "python",
   "pygments_lexer": "ipython3",
   "version": "3.8.10"
  }
 },
 "nbformat": 4,
 "nbformat_minor": 2
}
